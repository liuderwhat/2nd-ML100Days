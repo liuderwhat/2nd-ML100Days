{
 "cells": [
  {
   "cell_type": "code",
   "execution_count": 9,
   "metadata": {},
   "outputs": [],
   "source": [
    "import os\n",
    "import numpy as np\n",
    "import pandas as pd\n",
    "\n",
    "dir_data = '../../.././data'"
   ]
  },
  {
   "cell_type": "code",
   "execution_count": 10,
   "metadata": {},
   "outputs": [],
   "source": [
    "f_app_train = os.path.join(dir_data , 'application_train.csv')\n",
    "app_train = pd.read_csv(f_app_train)"
   ]
  },
  {
   "cell_type": "code",
   "execution_count": 11,
   "metadata": {},
   "outputs": [],
   "source": [
    "import matplotlib.pyplot as plt\n",
    "%matplotlib inline"
   ]
  },
  {
   "cell_type": "markdown",
   "metadata": {},
   "source": [
    "## 練習時間\n",
    "\n",
    "#### 觀察有興趣的欄位的資料分佈，並嘗試找出有趣的訊息"
   ]
  },
  {
   "cell_type": "markdown",
   "metadata": {},
   "source": [
    "觀察有興趣的欄位的資料分佈，並嘗試找出有趣的訊息\n",
    "#### Eg\n",
    "- 計算任意欄位的平均數及標準差\n",
    "- 畫出任意欄位的[直方圖](https://zh.wikipedia.org/zh-tw/%E7%9B%B4%E6%96%B9%E5%9B%BE)\n",
    "\n",
    "### Hints:\n",
    "- [Descriptive Statistics For pandas Dataframe](https://chrisalbon.com/python/data_wrangling/pandas_dataframe_descriptive_stats/)\n",
    "- [pandas 中的繪圖函數](https://amaozhao.gitbooks.io/pandas-notebook/content/pandas%E4%B8%AD%E7%9A%84%E7%BB%98%E5%9B%BE%E5%87%BD%E6%95%B0.html)"
   ]
  },
  {
   "cell_type": "code",
   "execution_count": 12,
   "metadata": {},
   "outputs": [
    {
     "data": {
      "text/html": [
       "<div>\n",
       "<style scoped>\n",
       "    .dataframe tbody tr th:only-of-type {\n",
       "        vertical-align: middle;\n",
       "    }\n",
       "\n",
       "    .dataframe tbody tr th {\n",
       "        vertical-align: top;\n",
       "    }\n",
       "\n",
       "    .dataframe thead th {\n",
       "        text-align: right;\n",
       "    }\n",
       "</style>\n",
       "<table border=\"1\" class=\"dataframe\">\n",
       "  <thead>\n",
       "    <tr style=\"text-align: right;\">\n",
       "      <th></th>\n",
       "      <th>name</th>\n",
       "      <th>BA</th>\n",
       "      <th>HR</th>\n",
       "      <th>RBI</th>\n",
       "    </tr>\n",
       "  </thead>\n",
       "  <tbody>\n",
       "    <tr>\n",
       "      <th>0</th>\n",
       "      <td>Judge</td>\n",
       "      <td>0.287</td>\n",
       "      <td>39</td>\n",
       "      <td>110</td>\n",
       "    </tr>\n",
       "    <tr>\n",
       "      <th>1</th>\n",
       "      <td>Gardner</td>\n",
       "      <td>0.245</td>\n",
       "      <td>11</td>\n",
       "      <td>54</td>\n",
       "    </tr>\n",
       "    <tr>\n",
       "      <th>2</th>\n",
       "      <td>Bird</td>\n",
       "      <td>0.217</td>\n",
       "      <td>16</td>\n",
       "      <td>39</td>\n",
       "    </tr>\n",
       "    <tr>\n",
       "      <th>3</th>\n",
       "      <td>Torres</td>\n",
       "      <td>0.269</td>\n",
       "      <td>26</td>\n",
       "      <td>81</td>\n",
       "    </tr>\n",
       "    <tr>\n",
       "      <th>4</th>\n",
       "      <td>Voit</td>\n",
       "      <td>0.255</td>\n",
       "      <td>30</td>\n",
       "      <td>86</td>\n",
       "    </tr>\n",
       "  </tbody>\n",
       "</table>\n",
       "</div>"
      ],
      "text/plain": [
       "      name     BA  HR  RBI\n",
       "0    Judge  0.287  39  110\n",
       "1  Gardner  0.245  11   54\n",
       "2     Bird  0.217  16   39\n",
       "3   Torres  0.269  26   81\n",
       "4     Voit  0.255  30   86"
      ]
     },
     "execution_count": 12,
     "metadata": {},
     "output_type": "execute_result"
    }
   ],
   "source": [
    "data = {'name': ['Judge', 'Gardner', 'Bird', 'Torres', 'Voit'], \n",
    "        'BA': [ 0.287,0.245,0.217,0.269 , 0.255],\n",
    "        'HR': [39, 11, 16, 26, 30],\n",
    "        'RBI': [110, 54, 39, 81, 86]}\n",
    "df = pd.DataFrame(data, columns = ['name', 'BA', 'HR', 'RBI'])\n",
    "df"
   ]
  },
  {
   "cell_type": "code",
   "execution_count": 20,
   "metadata": {},
   "outputs": [
    {
     "data": {
      "text/plain": [
       "122"
      ]
     },
     "execution_count": 20,
     "metadata": {},
     "output_type": "execute_result"
    }
   ],
   "source": [
    "# The sum of all HRs\n",
    "df['HR'].sum()"
   ]
  },
  {
   "cell_type": "code",
   "execution_count": 14,
   "metadata": {},
   "outputs": [
    {
     "data": {
      "text/plain": [
       "0.25460000000000005"
      ]
     },
     "execution_count": 14,
     "metadata": {},
     "output_type": "execute_result"
    }
   ],
   "source": [
    "# Mean BA\n",
    "df['BA'].mean()"
   ]
  },
  {
   "cell_type": "code",
   "execution_count": 15,
   "metadata": {},
   "outputs": [
    {
     "data": {
      "text/plain": [
       "count      5.000000\n",
       "mean      74.000000\n",
       "std       27.901613\n",
       "min       39.000000\n",
       "25%       54.000000\n",
       "50%       81.000000\n",
       "75%       86.000000\n",
       "max      110.000000\n",
       "Name: RBI, dtype: float64"
      ]
     },
     "execution_count": 15,
     "metadata": {},
     "output_type": "execute_result"
    }
   ],
   "source": [
    "# Summary statistics on RBI\n",
    "df['RBI'].describe()"
   ]
  },
  {
   "cell_type": "code",
   "execution_count": 18,
   "metadata": {},
   "outputs": [
    {
     "data": {
      "text/plain": [
       "([<matplotlib.patches.Wedge at 0x24cb566b4e0>,\n",
       "  <matplotlib.patches.Wedge at 0x24cb566bba8>,\n",
       "  <matplotlib.patches.Wedge at 0x24cb56762e8>,\n",
       "  <matplotlib.patches.Wedge at 0x24cb56769e8>,\n",
       "  <matplotlib.patches.Wedge at 0x24cb567f128>],\n",
       " [Text(0.5903657948710956, 0.9281531275852168, 'Judge'),\n",
       "  Text(-0.7261673574677596, 0.8262451022234814, 'Gardner'),\n",
       "  Text(-1.0868966851805422, 0.16927963771094703, 'Bird'),\n",
       "  Text(-0.6602357335857842, -0.8798231504662977, 'Torres'),\n",
       "  Text(0.7877673953620831, -0.7677385823341429, 'Voit')],\n",
       " [Text(0.3220177062933248, 0.5062653423192092, '32.0%'),\n",
       "  Text(-0.3960912858915052, 0.4506791466673534, '9.0%'),\n",
       "  Text(-0.5928527373712048, 0.09233434784233473, '13.1%'),\n",
       "  Text(-0.3601285819558823, -0.47990353661798046, '21.3%'),\n",
       "  Text(0.4296913065611362, -0.41876649945498706, '24.6%')])"
      ]
     },
     "execution_count": 18,
     "metadata": {},
     "output_type": "execute_result"
    },
    {
     "data": {
      "image/png": "[encoded data removed]",
      "text/plain": [
       "<Figure size 640x480 with 1 Axes>"
      ]
     },
     "metadata": {},
     "output_type": "display_data"
    }
   ],
   "source": [
    "#用圓餅圖呈現各選手間全壘打的比例\n",
    "fig = plt.figure()\n",
    "labels = df['name']\n",
    "word_size = df['HR']\n",
    "plt.pie(df['HR'], labels = labels, autopct= \"%3.1f%%\")\n",
    "# autopct-->項目百分比的格式"
   ]
  },
  {
   "cell_type": "code",
   "execution_count": 23,
   "metadata": {},
   "outputs": [
    {
     "data": {
      "text/plain": [
       "Text(0.5, 1.0, 'How many home runs of each players?')"
      ]
     },
     "execution_count": 23,
     "metadata": {},
     "output_type": "execute_result"
    },
    {
     "data": {
      "image/png": "[encoded data removed]",
      "text/plain": [
       "<Figure size 640x480 with 1 Axes>"
      ]
     },
     "metadata": {},
     "output_type": "display_data"
    }
   ],
   "source": [
    "plt.rcdefaults()\n",
    "fig , ax = plt.subplots()\n",
    "y_pos = np.arange(len(df[\"name\"]))\n",
    "error = np.random.rand(len(df[\"name\"]))\n",
    "ax.barh(y_pos , df['HR'] , align=\"center\")\n",
    "ax.set_yticks(y_pos)\n",
    "ax.set_yticklabels(df[\"name\"])\n",
    "ax.invert_yaxis()  # labels read top-to-bottom\n",
    "ax.set_xlabel('Numbers of Home Run')\n",
    "ax.set_title('How many home runs of each players?')"
   ]
  },
  {
   "cell_type": "code",
   "execution_count": null,
   "metadata": {},
   "outputs": [],
   "source": []
  }
 ],
 "metadata": {
  "kernelspec": {
   "display_name": "Python 3",
   "language": "python",
   "name": "python3"
  },
  "language_info": {
   "codemirror_mode": {
    "name": "ipython",
    "version": 3
   },
   "file_extension": ".py",
   "mimetype": "text/x-python",
   "name": "python",
   "nbconvert_exporter": "python",
   "pygments_lexer": "ipython3",
   "version": "3.6.4"
  }
 },
 "nbformat": 4,
 "nbformat_minor": 2
}
