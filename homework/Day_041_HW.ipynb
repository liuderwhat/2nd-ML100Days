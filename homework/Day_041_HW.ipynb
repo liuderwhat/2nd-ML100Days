{
 "cells": [
  {
   "cell_type": "markdown",
   "metadata": {},
   "source": [
    "# 作業\n",
    "\n",
    "#### 閱讀以下兩篇文獻，了解決策樹原理，並試著回答後續的問題\n",
    "#### 決策樹 (Decision Tree) - 中文\n",
    "#### how decision tree works - 英文"
   ]
  },
  {
   "cell_type": "markdown",
   "metadata": {},
   "source": [
    "### 在分類問題中，若沒有任何限制，決策樹有辦法在訓練時將 training loss 完全降成 0 嗎？\n",
    "\n",
    "#### 可以，但可能會造成over-fitting\n",
    "\n",
    "### 決策樹只能用在分類問題嗎？還是可以用來解決回歸問題\n",
    "\n",
    "#### 可以，因為決策樹又可分為兩類，分類決策樹(Classification tree)與回歸決策樹(Regression tree)，實務上常用CART回歸樹處理回歸問題。"
   ]
  },
  {
   "cell_type": "code",
   "execution_count": null,
   "metadata": {},
   "outputs": [],
   "source": []
  }
 ],
 "metadata": {
  "kernelspec": {
   "display_name": "Python 3",
   "language": "python",
   "name": "python3"
  },
  "language_info": {
   "codemirror_mode": {
    "name": "ipython",
    "version": 3
   },
   "file_extension": ".py",
   "mimetype": "text/x-python",
   "name": "python",
   "nbconvert_exporter": "python",
   "pygments_lexer": "ipython3",
   "version": "3.6.4"
  }
 },
 "nbformat": 4,
 "nbformat_minor": 2
}
