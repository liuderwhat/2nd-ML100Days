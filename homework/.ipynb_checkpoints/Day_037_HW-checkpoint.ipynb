{
 "cells": [
  {
   "cell_type": "markdown",
   "metadata": {},
   "source": [
    "## 1.線性回歸模型能夠準確預測非線性關係的資料集嗎?\n",
    "\n",
    "### 若設計的夠複雜就可以"
   ]
  },
  {
   "cell_type": "markdown",
   "metadata": {},
   "source": [
    "## 2.回歸模型是否對資料分布有基本假設?\n",
    "#### 有，分成四個\n",
    "* 線性關係\n",
    "\n",
    "* 常態性(normality)\n",
    "\n",
    "* 誤差項的獨立性\n",
    "\n",
    "* 誤差項的變異數相等(Homoscedasticity)"
   ]
  },
  {
   "cell_type": "code",
   "execution_count": null,
   "metadata": {},
   "outputs": [],
   "source": []
  }
 ],
 "metadata": {
  "kernelspec": {
   "display_name": "Python 3",
   "language": "python",
   "name": "python3"
  },
  "language_info": {
   "codemirror_mode": {
    "name": "ipython",
    "version": 3
   },
   "file_extension": ".py",
   "mimetype": "text/x-python",
   "name": "python",
   "nbconvert_exporter": "python",
   "pygments_lexer": "ipython3",
   "version": "3.6.4"
  }
 },
 "nbformat": 4,
 "nbformat_minor": 2
}
