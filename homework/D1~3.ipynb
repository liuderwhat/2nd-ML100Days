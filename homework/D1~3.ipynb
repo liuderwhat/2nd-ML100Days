{
 "cells": [
  {
   "cell_type": "markdown",
   "metadata": {},
   "source": [
    "## D1 請上 Kaggle, 在 Competitions 或 Dataset 中找一組競賽或資料並寫下："
   ]
  },
  {
   "cell_type": "markdown",
   "metadata": {},
   "source": [
    "資料:MLB Pitch Data 2015-2018 https://www.kaggle.com/pschale/mlb-pitch-data-20152018#atbats.csv"
   ]
  },
  {
   "cell_type": "markdown",
   "metadata": {},
   "source": [
    "#### 1. 你選的這組資料為何重要：\n",
    "#### 因為數據對於目前的棒球影響重大，透過對投打的分析可以有效了選手的優缺點或習慣。\n",
    "\n",
    "#### 2. 資料從何而來 (tips: 譬如提供者是誰、以什麼方式蒐集) : \n",
    "#### http://gd2.mlb.com/components/game/mlb/\n",
    "\n",
    "#### 3. 蒐集而來的資料型態為何 : \n",
    "#### px : float pz : float start_speed : float end_speed :float spin_rate :float spin_dir :float ...\n",
    "\n",
    "#### 4. 這組資料想解決的問題如何評估 : \n",
    "#### 透過回歸分析等方法找出之間的關聯性使否高度相關"
   ]
  },
  {
   "cell_type": "markdown",
   "metadata": {},
   "source": [
    "## D2 想像你經營一個自由載客車隊，你希望能透過數據分析以提升業績，請你思考並描述你如何規劃整體的分析/解決方案："
   ]
  },
  {
   "cell_type": "markdown",
   "metadata": {},
   "source": [
    " #### 1. 核心問題為何 (tips：如何定義 「提升業績 & 你的假設」)\n",
    " ####  找出如何在特定車輛的限制下可用最短時間到指定地點且讓整體服務有高效率。\n",
    " #### 2. 資料從何而來 (tips：哪些資料可能會對你想問的問題產生影響 & 資料如何蒐集)\n",
    " #### 去找目前相關的公司的資料，像是地點與車之間的距離或車輛移動的範圍...等\n",
    " #### 3. 蒐集而來的資料型態為何\n",
    " #### 顧客地點(座標) : float  指定地點: float 車子編號: int 顧客編號:int 顧客離最近車之距離:float\n",
    " #### 4. 你要回答的問題，其如何評估 (tips：你的假設如何驗證)\n",
    " #### 透過演算法找出最佳解，利用圖表呈現"
   ]
  },
  {
   "cell_type": "markdown",
   "metadata": {},
   "source": [
    "## D3 請寫一個函式用來計算 Mean Square Error"
   ]
  },
  {
   "cell_type": "code",
   "execution_count": null,
   "metadata": {},
   "outputs": [],
   "source": []
  }
 ],
 "metadata": {
  "kernelspec": {
   "display_name": "Python 3",
   "language": "python",
   "name": "python3"
  },
  "language_info": {
   "codemirror_mode": {
    "name": "ipython",
    "version": 3
   },
   "file_extension": ".py",
   "mimetype": "text/x-python",
   "name": "python",
   "nbconvert_exporter": "python",
   "pygments_lexer": "ipython3",
   "version": "3.6.4"
  }
 },
 "nbformat": 4,
 "nbformat_minor": 2
}
